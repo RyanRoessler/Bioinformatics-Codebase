{
 "cells": [
  {
   "cell_type": "markdown",
   "id": "34a1bfd2-34b2-4d1e-b9d3-1ce9e4aab133",
   "metadata": {},
   "source": [
    "# Bioinformatics Problems"
   ]
  },
  {
   "cell_type": "markdown",
   "id": "3c4951b8-187e-4351-8154-ec37b702b484",
   "metadata": {},
   "source": [
    "## Using OOP for a DNASequence Class "
   ]
  },
  {
   "cell_type": "code",
   "execution_count": 7,
   "id": "5628d753-501f-43b3-8041-e74bee294bee",
   "metadata": {
    "tags": []
   },
   "outputs": [
    {
     "name": "stdout",
     "output_type": "stream",
     "text": [
      "Sequence: TGAACCCGACCTCTCTGGTTCCTCTTAGTGAAGAGCAGCAAATCATGCCGCACAGGAATCGGGATCGTCGAACTTCCTGGCAACATCAGCGGACTTCGTC\n",
      "Length: 100\n",
      "Nucleotide counts: {'A': 24, 'C': 30, 'G': 24, 'T': 22}\n",
      "Reverse compliment sequence: GACGAAGTCCGCTGATGTTGCCAGGAAGTTCGACGATCCCGATTCCTGTGCGGCATGATTTGCTGCTCTTCACTAAGAGGAACCAGAGAGGTCGGGTTCA\n",
      "\n",
      "Sequence: CTTTGTAACTCTGTTTTAATAGCTATCCCGCAACATTTACCTCGCACAAGAACATGACGACTATAACATAGCGGAAGCTCTTATATGATCGCCGGAGGGCTCAACTCATCCACGTAGTTTGGCCCCTATGATTACAGGAGTCTGAATAGGCCCCAACTGGAGTCTCAAAGACACCGCATAAAGTCAATACAAGGAGTGGCCGTCTTATCGCCTGAACCGCTATCCAATTCTACTCGCGAATGTGTAGGTTCTACCCACCCAACAAGGATCGATGTACGGTTTGCGCGGGTGGTATGGGAGTGCTAGCTATCCACCGTCCGCCAGACCTTTGTAACACCTTCCGGCAGCGATCCCACGCGTGCGGGGGTGATTCCAAGACCTCCAAGGTGTACTGTGCAGGTTCGCGTATCGTGTGGCTCATAGCGTACTTAGGAACGCCCGATCAGATGGCCTTATTACACATTAATGATGTTAGGTTTAACCTCCTTACTAGCGGATAC\n",
      "Length: 500\n",
      "Nucleotide counts: {'A': 124, 'C': 133, 'G': 117, 'T': 126}\n",
      "Reverse compliment sequence: GTATCCGCTAGTAAGGAGGTTAAACCTAACATCATTAATGTGTAATAAGGCCATCTGATCGGGCGTTCCTAAGTACGCTATGAGCCACACGATACGCGAACCTGCACAGTACACCTTGGAGGTCTTGGAATCACCCCCGCACGCGTGGGATCGCTGCCGGAAGGTGTTACAAAGGTCTGGCGGACGGTGGATAGCTAGCACTCCCATACCACCCGCGCAAACCGTACATCGATCCTTGTTGGGTGGGTAGAACCTACACATTCGCGAGTAGAATTGGATAGCGGTTCAGGCGATAAGACGGCCACTCCTTGTATTGACTTTATGCGGTGTCTTTGAGACTCCAGTTGGGGCCTATTCAGACTCCTGTAATCATAGGGGCCAAACTACGTGGATGAGTTGAGCCCTCCGGCGATCATATAAGAGCTTCCGCTATGTTATAGTCGTCATGTTCTTGTGCGAGGTAAATGTTGCGGGATAGCTATTAAAACAGAGTTACAAAG\n"
     ]
    }
   ],
   "source": [
    "from Classes import DNASequence\n",
    "from Bioinformatics_Functions import random_sequence\n",
    "\n",
    "s1 = random_sequence(100)\n",
    "s2 = random_sequence(500)\n",
    "\n",
    "seq1 = DNASequence(s1)\n",
    "seq2 = DNASequence(s2)\n",
    "\n",
    "print(f\"Sequence: {s1}\")\n",
    "print(f\"Length: {len(seq1)}\")\n",
    "print(f\"Nucleotide counts: {seq1.nuc_count()}\")\n",
    "print(f\"Reverse compliment sequence: {seq1.rev_comp()}\")\n",
    "print(f\"\\nSequence: {s2}\")\n",
    "print(f\"Length: {len(seq2)}\")\n",
    "print(f\"Nucleotide counts: {seq2.nuc_count()}\")\n",
    "print(f\"Reverse compliment sequence: {seq2.rev_comp()}\")"
   ]
  },
  {
   "cell_type": "markdown",
   "id": "d7f6d6df-3822-405e-8c36-b7591e34fb59",
   "metadata": {},
   "source": [
    "## Handling some NGS data"
   ]
  },
  {
   "cell_type": "code",
   "execution_count": 34,
   "id": "3447b0c1-0782-4bf4-8111-4c135e91a6f2",
   "metadata": {
    "tags": []
   },
   "outputs": [
    {
     "name": "stdout",
     "output_type": "stream",
     "text": [
      "GGGCGGCGACCTCGCGGGTTTTCGCTATTTATGAAAATTTTCCGGTTTAA ...\n"
     ]
    },
    {
     "data": {
      "text/plain": [
       "{'A': 12334, 'C': 11362, 'G': 12820, 'T': 11986}"
      ]
     },
     "execution_count": 34,
     "metadata": {},
     "output_type": "execute_result"
    }
   ],
   "source": [
    "# Reading a .fa file and counting the nucleotides\n",
    "\n",
    "from NGS_Functions import FASTA_read\n",
    "from Bioinformatics_Functions import nucleotide_count\n",
    "\n",
    "\n",
    "genome = FASTA_read('lambda_virus.fa')\n",
    "print(genome[:50], \"...\")\n",
    "nucleotide_count(genome)"
   ]
  },
  {
   "cell_type": "code",
   "execution_count": 10,
   "id": "2f0acce7-924e-48b9-9c6e-696ca412bea7",
   "metadata": {
    "tags": []
   },
   "outputs": [
    {
     "name": "stdout",
     "output_type": "stream",
     "text": [
      "['TAACCCTAACCCTAACCCTAACCCTAACCCTAACCCTAACCCTAACCCTAACCCTAACCCTAACCCNAACCCTAACCCTAACCCTAACCCTAACCCTAAC', 'TAACCCTAACCCTAACCCTAACCCTAACCCTAACCCTAACCCTAACCCTAACCCTAACCCTAACCCNAACCCTAACCCTAACCCTAACCCTNACCCTAAC', 'TAACCCTAACCCTAACCCTAACCCTAACCCTAACCCTAACCCTAACCCTAACCCTAACCCTAACCCNAACCCTAACCCTAACCCTAACCCTAACCCTAAC', 'TAACCCTAACCCTAACCCTAACCCTAACCCTAACCCTAACCCTAACCCTAACCCTAACCCTAACCCNAACCCTAACCCTAACCCTAACCCTAACCCTACC', 'AACCCTAACCCTAACCCTAACCCTAACCCTAACCCTAACCCTAACCCTAACCCTAACCCTAACCCTNACCCTAACCCTAACCCTAACCCTAAACCTAACC']\n",
      "['HHHHHHHHHHHHHHHHHHHHHHHHHHHHHHHHHHHHHHHHHHHGFHHHFHFFHHHHHGHHFHEH@4#55554455HGFBF<@C>7EEF@FBEDDD<=C<E', 'HHHHHHHHHHHHHHHHHHHHHHHHHHHHHHHHHHHHHHHHHHHHHHHHHHHHHHHHCHHHHEHHBA#C>@54455C/7=CGHEGEB;C############', 'HHHHHHHHHHHHHHHHHHHHHHHHHHHHHHGHHHHHHHHHHHHHDHHHDEHHHHFGIHEHEGGGF4#45655366GIGEHAGBG################', 'HHHHHHHHHHHHHHHHHHHHHHHHHIHHHHHHHHHHHHHHHHHHHHHHIHHHHHIHFHHHIHHHHD#ECA54655GGIBH?BD@+BCBF?5A=::>8?##', 'HHHHHHHHHHHHHHHHHHHHHHHHHHHHHHHHHHHHHHHHHHHHHHHIHIHEHHIGHIFFHIIGF6#555:2=7=CB;?3CAACBAC2B###########']\n"
     ]
    }
   ],
   "source": [
    "# Reading a .fastq file\n",
    "\n",
    "from NGS_Functions import FASTQ_read\n",
    "\n",
    "seqs, quals = FASTQ_read('ERR037900_1.first1000.fastq')\n",
    "print(seqs[:5])\n",
    "print(quals[:5])"
   ]
  },
  {
   "cell_type": "code",
   "execution_count": 11,
   "id": "a8de478c-9e49-4004-b84d-974c87b302e4",
   "metadata": {
    "tags": []
   },
   "outputs": [
    {
     "name": "stdout",
     "output_type": "stream",
     "text": [
      "39,39,39,39,39,39,39,39,39,39,39,39,39,39,39,39,39,39,39,39,39,39,39,39,39,39,39,39,39,39,39,39,39,39,39,39,39,39,39,39,39,39,39,38,37,39,39,39,37,39,37,37,39,39,39,39,39,38,39,39,37,39,36,39,31,19,2,20,20,20,20,19,19,20,20,39,38,37,33,37,27,31,34,29,22,36,36,37,31,37,33,36,35,35,35,27,28,34,27,36\n"
     ]
    }
   ],
   "source": [
    "# Getting Q values\n",
    "\n",
    "from NGS_Functions import Phred33_to_Q\n",
    "\n",
    "# Q values for first sequence\n",
    "vals1 = ','.join(str(Phred33_to_Q(val)) for val in quals[0])\n",
    "print(vals1)"
   ]
  },
  {
   "cell_type": "code",
   "execution_count": 12,
   "id": "e199639f-84c1-4ac5-b133-ead7233c43ea",
   "metadata": {
    "tags": []
   },
   "outputs": [
    {
     "name": "stdout",
     "output_type": "stream",
     "text": [
      "[0, 0, 17723, 0, 2, 11, 11, 28, 23, 55, 100, 111, 86, 174, 185, 272, 317, 259, 390, 1523, 2782, 762, 286, 413, 403, 538, 351, 694, 971, 777, 1024, 1449, 1341, 1312, 1916, 2233, 3025, 4043, 6640, 45696, 2074, 0, 0, 0, 0, 0, 0, 0, 0, 0]\n"
     ]
    },
    {
     "data": {
      "image/png": "[encoded data removed]",
      "text/plain": [
       "<Figure size 640x480 with 1 Axes>"
      ]
     },
     "metadata": {},
     "output_type": "display_data"
    }
   ],
   "source": [
    "# Plotting a histogram of Q values\n",
    "\n",
    "from NGS_Functions import hist\n",
    "import matplotlib.pyplot as plt\n",
    "\n",
    "h = hist(quals)\n",
    "print(h)\n",
    "plt.bar(range(len(h)), h)\n",
    "plt.show()"
   ]
  },
  {
   "cell_type": "markdown",
   "id": "ee35a9b3-c644-4893-a692-217625f53917",
   "metadata": {},
   "source": [
    "### Matching reads with Naive Exact Matching algorithm"
   ]
  },
  {
   "cell_type": "code",
   "execution_count": 13,
   "id": "c61aaeb2-c193-4e26-9859-1eda4b11b11f",
   "metadata": {
    "tags": []
   },
   "outputs": [
    {
     "name": "stdout",
     "output_type": "stream",
     "text": [
      "Indices where ACGT matches against genome: [597, 685, 734, 1339, 1350, 1461, 1486, 1811, 2079, 2473, 2591, 2715, 2929, 3106, 3383, 3447, 3556, 3628, 3648, 3848, 4733, 4868]\n"
     ]
    }
   ],
   "source": [
    "from Bioinformatics_Functions import random_sequence\n",
    "from NGS_Functions import naive\n",
    "\n",
    "\n",
    "genome = random_sequence(5000)\n",
    "pattern = 'ACGT'\n",
    "print(f\"Indices where {pattern} matches against genome: {naive(pattern, genome)}\")"
   ]
  },
  {
   "cell_type": "code",
   "execution_count": 38,
   "id": "29d6186d-6f0a-4cab-8c82-d234ec8a96fd",
   "metadata": {
    "tags": []
   },
   "outputs": [
    {
     "name": "stdout",
     "output_type": "stream",
     "text": [
      "Reads matched in genome: 174 / 174\n"
     ]
    }
   ],
   "source": [
    "phix_reads, _ = FASTQ_read('lambda_virus.fa')\n",
    "\n",
    "matched_reads = 0\n",
    "tot_reads = 0\n",
    "for read in phix_reads:\n",
    "    matches = naive(read, genome)\n",
    "    tot_reads += 1\n",
    "    if len(matches) > 0:\n",
    "        matched_reads += 1\n",
    "\n",
    "print(f\"Reads matched in genome: {matched_reads} / {tot_reads}\")"
   ]
  },
  {
   "cell_type": "markdown",
   "id": "66743892-0fbb-4323-81b5-5a653b787794",
   "metadata": {},
   "source": [
    "### Getting the number of each nucleotide in *Vibrio cholerae*:"
   ]
  },
  {
   "cell_type": "code",
   "execution_count": 14,
   "id": "9a987b22-bb8f-4d81-92f5-7edf24420a45",
   "metadata": {
    "tags": []
   },
   "outputs": [
    {
     "name": "stdout",
     "output_type": "stream",
     "text": [
      "{'A': 293942, 'C': 263573, 'G': 256024, 'T': 294711}\n"
     ]
    }
   ],
   "source": [
    "file_path = r'C:\\Users\\ryanr\\OneDrive\\Desktop\\Coursera\\Bioinformatics UCSD\\Vibrio_cholerae_genome_seq.txt'\n",
    "\n",
    "with open(file_path, 'r') as f:\n",
    "    seq = f.readline()\n",
    "    \n",
    "print(nucleotide_count(seq))"
   ]
  },
  {
   "cell_type": "markdown",
   "id": "120f5edc-6c82-4903-835b-c6a98a27ab5d",
   "metadata": {},
   "source": [
    "### Counting pattern occurrences in a sequence:"
   ]
  },
  {
   "cell_type": "code",
   "execution_count": 15,
   "id": "7f5d3245-211e-4bbf-93a2-e46dac75b193",
   "metadata": {
    "tags": []
   },
   "outputs": [
    {
     "name": "stdout",
     "output_type": "stream",
     "text": [
      "Seq: TAGAGATTATCCAATTATCCACCGTTATCCAATTTATCCACATTATCCATTTATCCAGTTATCCACTTATCCAGTTATCCATTGATTATCCATTATCCAGTCTTATCCATTTATCCATTATCCATTATCCATTATCCATTATCCATTATCCATTATCCAATTTATCCATTATCCAGGAACACCGGCAATGCCAGTTATCCAGATTATCCATTATCCATTATCCAACCGATTATCCAGCTTATCCACTGCCGTACATGATTATCCATTATCCAAATACAGTTATCCATAATTATCCAGGGTATTTATCCATTATCCAACTTATCCATTTATCCATTATCCATATTATCCAGGCACGCGTTATCCAGAGTGACTTGTTATCCATTTTATCCACATTATCCACAATAGTATTTATCCATTATCCAAAGCGCGTTATCCAAGTTATCCATTATCCATTATCCACCAACATTATCCAGATTATCCATGTGTTATCCAGTTATCCAGAGTTATCCAACACTTATCCACTTATCCATTTATCCATTATCCACCCATTATCCATTATCCACTGTCCTTATCCATGTTATCCACATTATCCATTTATCCATTATCCAGCTTTATCCACATCTTTATCCATTATCCAGACCATTATCCATGCTTATCCAAGGATCTTATCCACGAAGTTATCCATATACATTCAACGTTATCCACATAATTTATCCATTATCCATTATCCAACTTATCCAGTTATCCACTTATCCAGGCTTATCCAACCTTTATCCATTATCCAAGTCTTATCCATACTTATCCATTATCCACTTATCCATATTATCCACCCGTTATCCACGGTTATCCAGTTATCCACTTATCCAATTATCCATTATCCATTTATCCATTCTTTTATCCACTTTATCCACATGAGTATTTTATCCACGTTATCCAAGTTATCCATTTTATCCATTATCCATTATCCATTATCCACTCTTATCCACCGATTATCCAATTTATCCA\n",
      "Pattern: TTATCCATT\n",
      "Occurrences of 'TTATCCATT' in Vibrio cholerae: 38\n"
     ]
    }
   ],
   "source": [
    "from Bioinformatics_Functions import pattern_count\n",
    "\n",
    "\n",
    "file = r'C:\\Users\\ryanr\\OneDrive\\Desktop\\Coursera\\Bioinformatics UCSD\\dataset_30272_6.txt'\n",
    "with open(file, 'r') as f:\n",
    "    # Read the first line and assign it to the variable 'Seq'\n",
    "    Seq = f.readline().strip()\n",
    "    # Read the second line and assign it to the variable 'pattern'\n",
    "    Pattern = f.readline().strip()\n",
    "    \n",
    "print(\"Seq:\", Seq)\n",
    "print(\"Pattern:\", Pattern)\n",
    "print(f\"Occurrences of 'TTATCCATT' in Vibrio cholerae: {pattern_count(Seq, Pattern)}\")"
   ]
  },
  {
   "cell_type": "markdown",
   "id": "0b6478ba-e8df-40fe-a092-97af4d44bda3",
   "metadata": {},
   "source": [
    "### Counting the most frequent pattern occurrences (k-mers of length 2, 3, etc.) in a sequence:"
   ]
  },
  {
   "cell_type": "code",
   "execution_count": 16,
   "id": "c91df483-191e-420a-82f7-c23995eb6afb",
   "metadata": {
    "tags": []
   },
   "outputs": [
    {
     "name": "stdout",
     "output_type": "stream",
     "text": [
      "Most Frequent Patterns: ['TACGTTTTGGATAG', 'ACGTTTTGGATAGT']\n",
      "Frequency Map: \n",
      "ATTTGGCATTTGGC:8\n",
      "TTTGGCATTTGGCA:4\n",
      "TTGGCATTTGGCAT:4\n",
      "TGGCATTTGGCATT:4\n",
      "GGCATTTGGCATTT:4\n",
      "GCATTTGGCATTTG:4\n",
      "CATTTGGCATTTGG:4\n",
      "TTTGGCATTTGGCT:3\n",
      "TTGGCATTTGGCTA:2\n",
      "TGGCATTTGGCTAC:2\n",
      ".\n",
      ".\n",
      ".\n"
     ]
    }
   ],
   "source": [
    "from Bioinformatics_Functions import freq_map, most_freq_patterns\n",
    "\n",
    "\n",
    "file_path = r'C:\\Users\\ryanr\\OneDrive\\Desktop\\Coursera\\Bioinformatics UCSD\\dataset_30272_13.txt'\n",
    "with open(file_path, 'r') as file:\n",
    "    Seq = file.readline().strip()\n",
    "    K = file.readline().strip()\n",
    "\n",
    "# Get the most frequent patterns\n",
    "freqPatterns = most_freq_patterns(Seq, K)\n",
    "print(\"Most Frequent Patterns:\", freqPatterns)\n",
    "\n",
    "# Get the frequency map\n",
    "freqMap = freq_map(Seq, K)\n",
    "\n",
    "print(f\"Frequency Map: \")\n",
    "[print(f\"{key}:{value}\") for key, value in list(freqMap.items())[:10]]\n",
    "print(\".\\n.\\n.\")"
   ]
  },
  {
   "cell_type": "markdown",
   "id": "dd347f04-7317-4998-b438-716300e97e59",
   "metadata": {},
   "source": [
    "### Finding the compliment of a sequence and reversing it:"
   ]
  },
  {
   "cell_type": "code",
   "execution_count": 17,
   "id": "58120f00-de49-4b5e-86b4-74300fa36d08",
   "metadata": {
    "tags": []
   },
   "outputs": [
    {
     "name": "stdout",
     "output_type": "stream",
     "text": [
      "Original Sequence: ACCTCAGGTT...GATAACCTTC\n",
      "\n",
      "Reversed Complementary Sequence: GAAGGTTATC...AACCTGAGGT\n"
     ]
    }
   ],
   "source": [
    "from Bioinformatics_Functions import reverse_complement\n",
    "\n",
    "\n",
    "file_path = r'C:\\Users\\ryanr\\OneDrive\\Desktop\\Coursera\\Bioinformatics UCSD\\dataset_30273_2.txt'\n",
    "with open(file_path, 'r') as file:\n",
    "    Seq = file.readline().strip()\n",
    "\n",
    "rev_comp_seq = reverse_complement(Seq)\n",
    "print(\"Original Sequence: \", Seq[:10], \"...\", Seq[-10:], sep='')\n",
    "print(\"\\nReversed Complementary Sequence: \", rev_comp_seq[:10], \"...\", rev_comp_seq[-10:], sep='')"
   ]
  },
  {
   "cell_type": "markdown",
   "id": "6d4ffe78-eff5-461f-a8dd-9959415c9b1f",
   "metadata": {},
   "source": [
    "### Finding all occurrences of CTTGATCAT in the *Vibrio cholerae* genome:"
   ]
  },
  {
   "cell_type": "code",
   "execution_count": 18,
   "id": "49266c49-3b6d-4bcc-8fd1-f3bc1dcb386c",
   "metadata": {
    "tags": []
   },
   "outputs": [
    {
     "name": "stdout",
     "output_type": "stream",
     "text": [
      "The pattern 'CTTGATCAT' occurs at indices:\n",
      "60039 98409 129189 152283 152354 152411 163207 197028 200160 357976 376771 392723 532935 600085 622755 1065555\n"
     ]
    }
   ],
   "source": [
    "from Bioinformatics_Functions import find_pattern_indices\n",
    "\n",
    "\n",
    "file_path = r'C:\\Users\\ryanr\\OneDrive\\Desktop\\Coursera\\Bioinformatics UCSD\\Vibrio_cholerae.txt'\n",
    "with open(file_path, 'r') as file:\n",
    "    # Pattern = file.readline().strip()\n",
    "    Seq = file.readline().strip()\n",
    "\n",
    "Pattern = 'CTTGATCAT'\n",
    "\n",
    "result = find_pattern_indices(Seq, Pattern)\n",
    "print(f\"The pattern '{Pattern}' occurs at indices:\\n{result}\")"
   ]
  },
  {
   "cell_type": "markdown",
   "id": "83219886-0de2-49ec-b708-e75e2fe4b021",
   "metadata": {},
   "source": [
    "### Find a k-mer pattern forming a 'clump' in a sequence:\n",
    " - ### *Clump(L, t)* denotes a pattern being found *t* times within *L* nucleotides\n",
    " - ### e.g. (50,4)-clump: find all k-mers occuring *t* = 4 times within an *L* = 50 nucleotide section"
   ]
  },
  {
   "cell_type": "code",
   "execution_count": 19,
   "id": "49140495-576b-45d0-86f9-87d0dbceeb02",
   "metadata": {
    "tags": []
   },
   "outputs": [
    {
     "name": "stdout",
     "output_type": "stream",
     "text": [
      "6-mers occurring at least 3 times in 200-long segments: AACCTG ACCTGG CCTGGG CTGGGA TGGGAA GGGAAC GGAACC GAACCT CCTGGA CTGGAA TGGAAC CTGGGT TGGGTT GGGTTC GTTTCG TTTCGA TTCGAA TTCCCC CCTAGA CCCCCC CCCCCA CCCCAT CCCATT CCATTG CATTGC ATTGCG TTGCGC TTGCGT ACCCCC GCTGCG TGCGCT GCGCTG TGGCTG GTTGGT TTGGTG CTTGTT TTGTTG TGTTGG TGGTGT CCCCCT CCCCTT TTCTTG TCTTGT TGTTGC GTTGCT GCGCGC CGCGCG AGCGGT GCCCTG CCTGGC CTGGCT CGCGAG GCGAGC CGAGCG GAGCGG GCGGTG GGTGAC GCGCGA GCGGTT CGGTTC TCGCGA GTGGAC GGTGGT GCTGCT TACCTA ACCTAA CCTAAA CTAAAG TAAAGT GCGTAC AGTTTA TTACCT AAAGTA GTACCT AAAGTC AAAGTT AAGTTT AGTAGT AGTCGC ACGGAG TCTGGT CGTTAC GTTACA CCGTTA TCTAAA ACGTCA CTGAAC ATTGAC TTGACG CTCACC TCATGT GTCCAG GATACC ATACCA CCAGGG TCCAGA CCAGAT CAGATA AGATAC ATACCG TCTCGA AGTCCA CTCCAG ATACCC CCCGCA GGGCCG GGCCGC CCGCAG CGCAGT GCAGTC CAGTCC GACGGG ACGGGC TGTGTT GTGTTA TGTTAC GTTACT TTACTG TACTGC ACTGCA TGCACT GCACTG CTGCAC CACTGG CTGTTA CTGCAT AGCTCG GGGACG GGTATT CGGGCT ACACCC CACCCA ACCCAA CCCAAA CCAAAC CAAACA CAAACG AAACGC CCCACA CACACC CAAACT ACTGAG CGAATG AGGGAC AGACTG GAGGGA GGAGTT CGGGAG GCACGG CACGGG ACGGGA GGGAGG GGAGGC GCGCAC CGCACG GGAGGG AGCACG GCCCCG\n"
     ]
    }
   ],
   "source": [
    "from Bioinformatics_Functions import find_clumps\n",
    "\n",
    "\n",
    "file_path = r'C:\\Users\\ryanr\\OneDrive\\Desktop\\Coursera\\Bioinformatics UCSD\\dataset_30274_5.txt'\n",
    "with open(file_path, 'r') as file:\n",
    "    Seq = file.readline().strip()\n",
    "    k, L, t = file.readline().strip().split()\n",
    "\n",
    "result = find_clumps(Seq, k, L, t)\n",
    "print(f\"{k}-mers occurring at least {t} times in {L}-long segments: {result}\")"
   ]
  },
  {
   "cell_type": "markdown",
   "id": "093daf23-cbb3-460c-9f35-a9ba81e5aee1",
   "metadata": {},
   "source": [
    "### How many different 9-mers form (500,3)-clumps in the E. coli genome?"
   ]
  },
  {
   "cell_type": "code",
   "execution_count": 20,
   "id": "a85a4ff8-3fd7-4aff-b1a5-33c5b6729e13",
   "metadata": {
    "tags": []
   },
   "outputs": [
    {
     "name": "stdout",
     "output_type": "stream",
     "text": [
      "Total number of 9-mers that form (500, 3)-Clumps: 1904\n",
      "9-mers occurring in (500, 3)-Clumps in E-coli:\n",
      "['TGGAACAGC', 'CGGGCTCAT', 'TCCGGCAAT', 'CGACCTGTA', 'GGTTGCCTG', 'ACGCTTAAC', 'ACGCGACTT', 'TAAGGCGTT', 'GTTCACGCC', 'CCTACGGGG']...\n"
     ]
    }
   ],
   "source": [
    "from Bioinformatics_Functions import find_clumps_V2\n",
    "\n",
    "\n",
    "file_path = r'C:\\Users\\ryanr\\OneDrive\\Desktop\\Coursera\\Bioinformatics UCSD\\E_coli.txt'\n",
    "with open(file_path, 'r') as file:\n",
    "    Seq = file.readline().strip()\n",
    "    \n",
    "k = 9\n",
    "L = 500\n",
    "t = 3\n",
    "\n",
    "result = find_clumps_V2(Seq, k, L, t)\n",
    "print(f\"Total number of {k}-mers that form (500, 3)-Clumps: {len(result)}\")\n",
    "print(f\"{k}-mers occurring in (500, 3)-Clumps in E-coli:\\n{result[:10]}...\")"
   ]
  },
  {
   "cell_type": "code",
   "execution_count": 21,
   "id": "bea1413b-cbf6-4a49-9ebc-36590c07a958",
   "metadata": {},
   "outputs": [
    {
     "name": "stdout",
     "output_type": "stream",
     "text": [
      "Minimum skew positions (indices): [53976, 53977]\n"
     ]
    },
    {
     "data": {
      "image/png": "[encoded data removed]",
      "text/plain": [
       "<Figure size 640x480 with 1 Axes>"
      ]
     },
     "metadata": {},
     "output_type": "display_data"
    }
   ],
   "source": [
    "from Bioinformatics_Functions import skew, min_skew_positions, plot_skew\n",
    "\n",
    "\n",
    "file = r'C:\\Users\\ryanr\\OneDrive\\Desktop\\Coursera\\Bioinformatics UCSD\\dataset_30277_10.txt'\n",
    "with open(file, 'r') as f:\n",
    "    Genome = f.readline().strip()\n",
    "\n",
    "min_positions = min_skew_positions(Genome)\n",
    "print(f\"Minimum skew positions (indices): {min_positions}\")\n",
    "plot_skew(Genome)"
   ]
  },
  {
   "cell_type": "markdown",
   "id": "1af81258-a971-43b5-91a7-a698f7212d06",
   "metadata": {},
   "source": [
    "### Plotting the results of the skew function"
   ]
  },
  {
   "cell_type": "code",
   "execution_count": 22,
   "id": "b66a4883-65d2-4085-b4ab-fe2c51c75a61",
   "metadata": {},
   "outputs": [
    {
     "name": "stdout",
     "output_type": "stream",
     "text": [
      "Hamming distance / number of mismatches between sequence 1 and 2: 902\n",
      "Sequence 1:\n",
      "TAGCTTTCCAACTCTCTCAAGAACGGCCATGGGTATTTACGTGCCGCAGCCTGGATCAGTATAACACCACAATGGCAGTGATGTGTAGTCTCCGACATCAACTCCATACCGGCGGTTCGTCGTCTTCAAGGTGTCTCCTCGTCGTCAACCTCTCCTTCGGTGCTCTGACGCCCAGTAGAGATCTCAGGCCACATAAGGGGGCTGGAAAGTCAGTCGAAATTACTATTCCTGCCCCGAGACTCCCCCGATTATTCCTGGCTATGTGTTTGGACCGTCGGTACACGTCACATTCTTCCGCACCTGGGCCAGGACATGATGTAGCATATTTAGACTAAGGAGAGATAGTTTTGTCGCCGCCTGGAAAACAACTTCGTATACGCGGGGAAAGTCAAGAGCTCTCCAGGGAACCATATGGGCCTCTAGTGTTTAACGAGGGGGGGATACTGTATATCGTCACTGAACAATACACTACGTTTAACTCTGAGTACAATCCTGTCATATGCCTCCCTAACGGTTGGAGCTAAAATGATTCTCGTGGCGGACGTTCGATTCTCATGAGGGTATGTCGGTCAAGAAGAATATTGATGGTTACTAATCTGTCGCGAAATGCTAGTAGATACGGTCGATGCCTTAGGATCACTGCATCCTCGCTGAACCCTTAATTTGTTAGCAGCGGAGAACTCTAGGTTAGCAGGGGCGTCCCCAAAGTTCAAGGGTTCGCAGGCGAAGCATAATTCTCGGACGAAGTTTCATTTTGGTATGTCGCGATGGGTTTCCGGTGCTTTGCACGACAGCAGCAGAAGAAATACAAAGGTAGCCGACAAGCGGAACATGTATGAAACGAAGTGACAGGACACCAAGCCATCGGACCCGAACGTTCTGATCCAGCGGAGATATGTATGTGATGTCTCTGCCCTTCACGGTGGATGTACTCGGTGTTGTCTTGCCGACTGCGTTCGGAGTCGGCTGGGCCCGGCATCAAGGACCTAATGCATGTGTCGCCGCGCCACTAGGATAACTCATCCTCCGCGTCCCTCCATAAATTTCACAAACTGATCATAAAAAAGGGTGAATGTTCGTTGTGCGCCATCCGGTTTGCGTTGGCATGCGGGGGATGTAACGGACTAGCAGGCGGCTGTCGCTAATTGCGATGCCACTTCAGATCAGGCATAGGGACATTAAC\n",
      "Sequence 2:\n",
      "CGGCTAACTTTGAACAAGCCGGCGGGGCTGCACTGACGGAAGCCCGCCTCCTAATCAAAGCGGAGGGAAGATTTAACCAGGTGTTATCATGGGCTCAAGTAGGATGTACTCCGAAGGATCCTGATGTAATTCAGTTTAATTTTTGAGCCTTGATGTCTCGTTTATTTCGAAAAGACACCGTACGACACTCTCGCAAAGACTAGTCCACACACCTCTCGACTAACTCGGCCTGGTGTACGATGGGCGTTCGAGATAGGTAGCGTTAGTGCCCGGATACGTGGTCTAACCCTCTGAATTCAGTCTCCGGAAGGCTACTTGGGGAGATAGCCATAGGAGGTAGCAACGAGAGCCGGGTTAATAAGAATAGCACCGACCGCTCCCATCCCTTAATGCTCGATCTACAGAGGCTATGTGTGGCCGGATGGCAGGCTGTGTGCCATAAATGCTCACGTGTCAACGTGCTCCATCTAGCGGTCAAATGCCATCTACTAATGAACCAGTGTGATGAACCCACGTCGGTATCAACATCGTATCTGCTATCACTGTAATCGCGCGAGGTAAGCCCTTCGGCTAAATACTCATAATGGCCTGCTTGTGCCTCTCCTCATCACTGAAAGGTACCTTTGCCTGAGATTAACAACATACGCCATTGCGCAGAAGCATCAGCAAGACCCCCGCGCTAGATCATAGGGTGGTGTCTACTCATGGGTTACGATAATGCAATACGTTAACGCGGCCCTCGCGCTGGTGCCAGAGCAAGGCACATATAATACCCGGAAGCGCAGATGTTACCGGTTGATTACGCACATTGTTCATATAGAATGAGCAATGCGTGGGGAGCGCTGCTACTAATTCGTAGTGGTCCCAGGTTCAGCATCGACGCGAGTGGCTGCATTCATAAAGTCAGATGGGGCCGGGGAGGTGACGATCGGCGCGTGAACGAAAAGGCTAGAGTATGCCGATTAGCACAATCATTAGACATGGCGGTTCTAGTGATAGCCTTTAGCTAAATATTGTACCACAGGGCGGCAGCTATGGCCTAGAGCATGGCTATTTCAGTAGCCGGAGCTGACGCAGGTTGTCAAGGTTGGCTTCGGTTACTCTGGGCACTGATGTCTAGTTACTGACAGCAGGGACCTAGTTGCCGCCAACGGGATCGATGGGGGGATTCGGCCGATGCTGC\n",
      "\n"
     ]
    }
   ],
   "source": [
    "from Bioinformatics_Functions import hamming_distance_V2\n",
    "\n",
    "\n",
    "file_path = r'C:\\Users\\ryanr\\OneDrive\\Desktop\\Coursera\\Bioinformatics UCSD\\dataset_30278_3.txt'\n",
    "with open(file_path, 'r') as file:\n",
    "    Seq1 = file.readline().strip()\n",
    "    Seq2 = file.readline().strip()\n",
    "\n",
    "print(f\"Hamming distance / number of mismatches between sequence 1 and 2: {hamming_distance_V2(Seq1, Seq2)}\\n\", f\"Sequence 1:\\n\", Seq1, f\"\\nSequence 2:\\n\", Seq2, \"\\n\", sep='')"
   ]
  },
  {
   "cell_type": "code",
   "execution_count": 23,
   "id": "89d8a430-0752-46b7-b593-024ff8274211",
   "metadata": {},
   "outputs": [
    {
     "name": "stdout",
     "output_type": "stream",
     "text": [
      "Locations (indices) of CATTACTGT with 6 or fewer mismatches:\n",
      "0 2 5 10 11 15 17 20...\n"
     ]
    }
   ],
   "source": [
    "from Bioinformatics_Functions import approx_pattern_occurrences\n",
    "\n",
    "\n",
    "file_path = r'C:\\Users\\ryanr\\OneDrive\\Desktop\\Coursera\\Bioinformatics UCSD\\dataset_30278_4.txt'\n",
    "with open(file_path, 'r') as file:\n",
    "    Pattern = file.readline().strip()\n",
    "    Seq = file.readline().strip()\n",
    "    D = file.readline().strip()\n",
    "\n",
    "print(f\"Locations (indices) of {Pattern} with {D} or fewer mismatches:\\n\", approx_pattern_occurrences(Pattern, Seq, D)[:20], \"...\", sep='')"
   ]
  },
  {
   "cell_type": "code",
   "execution_count": 24,
   "id": "e7fd14d3-84d6-4b52-8c8e-4955f82e6992",
   "metadata": {},
   "outputs": [
    {
     "name": "stdout",
     "output_type": "stream",
     "text": [
      "Occurrences of GAGG with 2 or fewer mismatches: 4\n"
     ]
    }
   ],
   "source": [
    "from Bioinformatics_Functions import approx_pattern_count\n",
    "\n",
    "\n",
    "D = 2\n",
    "Seq = 'TTTAGAGCCTTCAGAGG'\n",
    "Pattern = 'GAGG'\n",
    "\n",
    "approx_occurrences = approx_pattern_count(Seq, Pattern, D)\n",
    "print(f\"Occurrences of {Pattern} with {D} or fewer mismatches: {approx_occurrences}\")"
   ]
  },
  {
   "cell_type": "markdown",
   "id": "0aed3c4e-efda-45e7-bb60-09399a4eaf5e",
   "metadata": {},
   "source": [
    "### Counting the most frequent k-mer pattern occurrences with d or fewer mismatches\n",
    "> ### The collection of all such k-mers is called the d-neighborhood of Pattern, denoted Neighbors(Pattern, d)."
   ]
  },
  {
   "cell_type": "code",
   "execution_count": 25,
   "id": "667bcfde-dec7-44b0-8f48-9ded035d85b0",
   "metadata": {},
   "outputs": [
    {
     "name": "stdout",
     "output_type": "stream",
     "text": [
      "Most frequent 3-mer with 1 or fewer mismatches: ('TTT', {'TGA': 77, 'GGC': 63, 'AGA': 26, 'GCA': 37, 'GGA': 22, 'GGT': 31, 'GGG': 47, 'GAA': 62, 'GTA': 39, 'CGA': 34, 'GCC': 64, 'TAC': 82, 'AAC': 46, 'CAC': 39, 'GAG': 29, 'GAC': 28, 'GTC': 45, 'GAT': 40, 'CCT': 92, 'ACG': 39, 'GCT': 54, 'TCT': 79, 'ATT': 82, 'AAT': 36, 'ACC': 54, 'ACA': 25, 'ACT': 76, 'AGT': 33, 'CTA': 65, 'CTC': 60, 'CTT': 92, 'CAT': 70, 'TTT': 104, 'CGT': 73, 'CTG': 84, 'GTT': 66, 'TAA': 33, 'TTG': 63, 'TTC': 103, 'TTA': 74, 'ATA': 25, 'TCA': 53, 'AAA': 32, 'CAA': 16, 'TAG': 47, 'TAT': 40, 'AAG': 25, 'ATC': 35, 'ATG': 43, 'GTG': 23, 'TCG': 58, 'TGG': 57, 'TCC': 53, 'TGT': 35, 'TGC': 45, 'AGC': 29, 'CGC': 40, 'GCG': 23, 'CAG': 18, 'AGG': 31, 'CGG': 24, 'CCC': 67, 'CCA': 29, 'CCG': 50})\n"
     ]
    }
   ],
   "source": [
    "from Bioinformatics_Functions import most_freq_mismatched_patterns\n",
    "\n",
    "\n",
    "file_path = r'C:\\Users\\ryanr\\OneDrive\\Desktop\\Coursera\\Bioinformatics UCSD\\dataset_30278_9.txt'\n",
    "with open(file_path, 'r') as file:\n",
    "    Seq = file.readline().strip()\n",
    "    K = file.readline().strip()\n",
    "    D = file.readline().strip()\n",
    "\n",
    "print(f\"Most frequent {K}-mer with {D} or fewer mismatches: \", most_freq_mismatched_patterns(Seq, K, D), sep='')"
   ]
  },
  {
   "cell_type": "code",
   "execution_count": 26,
   "id": "5e1b8ea7-e5e5-477c-8436-a82996dbecda",
   "metadata": {},
   "outputs": [
    {
     "name": "stdout",
     "output_type": "stream",
     "text": [
      "Most frequent 6-mer with 2 or fewer mismatches and its reverse compliment: ACGACG CGTCGT\n"
     ]
    }
   ],
   "source": [
    "from Bioinformatics_Functions import reverse_complement, most_freq_mismatched_patterns_revcomp\n",
    "\n",
    "\n",
    "file_path = r'C:\\Users\\ryanr\\OneDrive\\Desktop\\Coursera\\Bioinformatics UCSD\\dataset_30278_10.txt'\n",
    "with open(file_path, 'r') as file:\n",
    "    Seq = file.readline().strip()\n",
    "    K = file.readline().strip()\n",
    "    D = file.readline().strip()\n",
    "\n",
    "print(f\"Most frequent {K}-mer with {D} or fewer mismatches and its reverse compliment: \", most_freq_mismatched_patterns_revcomp(Seq, K, D), sep='')"
   ]
  },
  {
   "cell_type": "markdown",
   "id": "86f4c63f-3189-4810-940c-a3a12145ca4b",
   "metadata": {},
   "source": [
    "### Our goal is to generate the d-neighborhood Neighbors(Pattern, d), the set of all k-mers whose Hamming distance from Pattern does not exceed d.\n",
    "> ### Warm up: Generating the 1-neigborhood of Pattern using the following pseudocode."
   ]
  },
  {
   "cell_type": "code",
   "execution_count": 27,
   "id": "1162cd6b-b74d-4423-b7ab-15f7b828f241",
   "metadata": {},
   "outputs": [
    {
     "name": "stdout",
     "output_type": "stream",
     "text": [
      "3-Neighborhood of AACCTCGTA:\n",
      "AATTTCGTC GACCACGTA AAAGTCGCA CACCGCGTC AGCATTGTA ...\n"
     ]
    }
   ],
   "source": [
    "from Bioinformatics_Functions import neighbors_V2\n",
    "\n",
    "\n",
    "file_path = r'C:\\Users\\ryanr\\OneDrive\\Desktop\\Coursera\\Bioinformatics UCSD\\dataset_30282_4.txt'\n",
    "with open(file_path, 'r') as file:\n",
    "    Pattern = file.readline().strip()\n",
    "    D = file.readline().strip()\n",
    "\n",
    "print(f\"{D}-Neighborhood of {Pattern}:\\n{' '.join(neighbors_V2(Pattern, D))[:50]}...\")"
   ]
  },
  {
   "cell_type": "markdown",
   "id": "fa0f8c51-1c78-48e6-bd42-bfc07249a94a",
   "metadata": {},
   "source": [
    "# Locating regulatory motifs / transcription factor binding sites\n",
    "## Implanted Motif Problem: Find all (k, d)-motifs in a collection of strings\n",
    "> ### Given a collection of DNA strings and an integer *d*, a k-mer is a (k,d)-motif if it appears in every string from Dna with at most *d* mismatches. "
   ]
  },
  {
   "cell_type": "code",
   "execution_count": 28,
   "id": "f96caeb5-6ce8-440c-b783-c0583d233dcd",
   "metadata": {},
   "outputs": [
    {
     "name": "stdout",
     "output_type": "stream",
     "text": [
      "Motifs with up to 1 mismatches:\n",
      "CCCGC CCCCC CCCTC CCCAC\n"
     ]
    }
   ],
   "source": [
    "from Bioinformatics_Functions import motif_enumeration\n",
    "\n",
    "\n",
    "file_path = r'C:\\Users\\ryanr\\OneDrive\\Desktop\\Coursera\\Bioinformatics UCSD\\dataset_30302_8.txt'\n",
    "with open(file_path, 'r') as file:\n",
    "    K = file.readline().strip()\n",
    "    D = file.readline().strip()\n",
    "    # split() creates a list, rather than a line of strings separated by spaces\n",
    "    DNA = file.readline().strip().split()\n",
    "\n",
    "# * unpacks elements of the list and prints them separated by spaces\n",
    "print(\"Motifs with up to \", D, \" mismatches:\\n\", *motif_enumeration(DNA, K, D), sep='')"
   ]
  },
  {
   "cell_type": "markdown",
   "id": "dc391619-3426-447b-9eb4-37cf6bfcc163",
   "metadata": {},
   "source": [
    "### Our goal is to find a k-mer *Pattern* that minimizes *d(Pattern, Dna)* over all k-mers *Pattern*. We call such a k-mer a **median string** for Dna.\n",
    "\n",
    "> ### Median String Problem: Find a median string.\n",
    " - Input: A collection of strings Dna and an integer k.\n",
    " - Output: A k-mer Pattern that minimizes d(Pattern, Dna) among all possible choices of k-mers."
   ]
  },
  {
   "cell_type": "code",
   "execution_count": 29,
   "id": "ed386a7f-09a8-4fe9-923a-0b516bf762ec",
   "metadata": {},
   "outputs": [
    {
     "name": "stdout",
     "output_type": "stream",
     "text": [
      "6-mers that minimize d(Pattern, Dna): ['CCAGCA']\n"
     ]
    }
   ],
   "source": [
    "from Bioinformatics_Functions import sum_hamming_distances, median_string\n",
    "\n",
    "\n",
    "file_path = r'C:\\Users\\ryanr\\OneDrive\\Desktop\\Coursera\\Bioinformatics UCSD\\dataset_30304_9.txt'\n",
    "with open(file_path, 'r') as file:\n",
    "    K = file.readline().strip()\n",
    "    DNA = [line.strip() for line in file.readlines()]\n",
    "\n",
    "# K=3\n",
    "# DNA = [\"TTACCTTAAC\", \"GATATCTGTC\", \"ACGGCGTTCG\", \"CCCTAAAGAG\", \"CGTCAGAGGT\"]\n",
    "\n",
    "print(f\"{K}-mers that minimize d(Pattern, Dna): {median_string(DNA, K)}\")"
   ]
  },
  {
   "cell_type": "markdown",
   "id": "4b70ad6b-1270-4e74-bfd3-6fbaf16cad23",
   "metadata": {},
   "source": [
    "### Given a profile matrix *Profile*, evaluate the probability of every k-mer in a string *Seq* and find a **Profile-most probable** k-mer in *Seq*, i.e., find a k-mer that was most likely to have been generated by *Profile* among all k-mers in *Seq*."
   ]
  },
  {
   "cell_type": "code",
   "execution_count": 30,
   "id": "f2390395-5c0e-49df-b643-d601889ea4b0",
   "metadata": {},
   "outputs": [
    {
     "name": "stdout",
     "output_type": "stream",
     "text": [
      "Profile-most probable 12-mer in given sequence: ATATAAGGCTAA\n"
     ]
    }
   ],
   "source": [
    "from Bioinformatics_Functions import profile_most_probable\n",
    "    \n",
    "    \n",
    "file_path = r'C:\\Users\\ryanr\\OneDrive\\Desktop\\Coursera\\Bioinformatics UCSD\\dataset_30305_3.txt'\n",
    "with open(file_path, 'r') as file:\n",
    "    Seq = file.readline().strip()\n",
    "    K = file.readline().strip()\n",
    "    # Read final lines as a matrix\n",
    "    Profile = [[float(num) for num in line.split()] for line in file]\n",
    "\n",
    "print(f\"Profile-most probable {K}-mer in given sequence: {profile_most_probable(Seq, K, Profile)}\")"
   ]
  },
  {
   "cell_type": "code",
   "execution_count": 31,
   "id": "a15a4f25-b3a3-42cc-87fd-38f82cf727f1",
   "metadata": {},
   "outputs": [
    {
     "name": "stdout",
     "output_type": "stream",
     "text": [
      "Optimal motif matrix from Dna using greedy approach:\n",
      "CACACCGAGCTG ACCCTCCACATC TTAGTCCGAAGC CCTCAGTAGATT CCTCAGTAAGAA CCTCAGCAAGAA CTCCCCTAGATA CACAAGCGGGAT GAGTGGAGGGAC TCACTGTAGGTC TTTCAGCAGCAT CTTTAGTAAGAA GATTAGCAAGAA CATCAGTAAGAA CTTAAGGAAGAA TTTGAGGAAGAA ATTCAGTAAGAA GTTGAGTAAGAA TTTTAGTAAGAA TCTGAGAAAGAA CTACAGGGGGTT GATAAGCAAGAA AATTAGCAAGAA TCTGAGTAAGAA CTTCAGCAAGAA\n"
     ]
    }
   ],
   "source": [
    "from Bioinformatics_Functions import build_profile_matrix, score, greedy_motif_search\n",
    "\n",
    "\n",
    "\n",
    "file_path = r'C:\\Users\\ryanr\\OneDrive\\Desktop\\Coursera\\Bioinformatics UCSD\\dataset_30305_5.txt'\n",
    "with open(file_path, 'r') as file:\n",
    "    K = file.readline().strip()\n",
    "    T = file.readline().strip()\n",
    "    # Read space-separated strings as a list\n",
    "    DNA = file.readline().strip().split()\n",
    "\n",
    "print(\"Optimal motif matrix from Dna using greedy approach:\\n\", greedy_motif_search(DNA, K, T), sep='')"
   ]
  },
  {
   "cell_type": "code",
   "execution_count": 32,
   "id": "f7948f21-0ed4-41ee-9cc9-8097a014b586",
   "metadata": {},
   "outputs": [
    {
     "name": "stdout",
     "output_type": "stream",
     "text": [
      "Optimal motif matrix from Dna:\n",
      "CGGGCGGTACAA CTACCTTTCCTT GCGCACCGTCGA CTCAATGCCATT CTAGCTTGCCTT CTGCAGGCCCAT CGAACTTTCCTT CTCCATTCCAGT TACACACAGCAC CGACCTTACCTT CTACAGCGACAC TTACCTTTACAT CAAGCTTACCTT CGAGCTTGCCTA CCAACTTGCCTT CCACCTTACCTA CGAGCTTGCCTT CAACCTTTCCTC CGAGCTTACCTA CGACATGGGCAT CCACCTTCCCTT CGACCTTGCCTC CGACCTTTCCTC CAAACTTGCCTC CAACAGGACCGA\n"
     ]
    }
   ],
   "source": [
    "from Bioinformatics_Functions import build_profile_matrix_V2\n",
    "\n",
    "\n",
    "file_path = r'C:\\Users\\ryanr\\OneDrive\\Desktop\\Coursera\\Bioinformatics UCSD\\dataset_30306_9.txt'\n",
    "with open(file_path, 'r') as file:\n",
    "    K = file.readline().strip()\n",
    "    T = file.readline().strip()\n",
    "    # Read space-separated strings as a list\n",
    "    DNA = file.readline().strip().split()\n",
    "\n",
    "print(\"Optimal motif matrix from Dna:\\n\", greedy_motif_search(DNA, K, T), sep='')"
   ]
  },
  {
   "cell_type": "code",
   "execution_count": 33,
   "id": "59066691-34b5-484d-9617-47f3fe287c41",
   "metadata": {
    "tags": []
   },
   "outputs": [
    {
     "name": "stdout",
     "output_type": "stream",
     "text": [
      "0.9\n",
      "1.99\n",
      "0.14\n",
      "1.36\n",
      "1.37\n"
     ]
    }
   ],
   "source": [
    "from Bioinformatics_Functions import calculate_entropy    \n",
    "    \n",
    "    \n",
    "numbers_1 = [0.5, 0, 0, 0.65]\n",
    "numbers_2 = [0.2, 0.25, 0.3, 0.25]\n",
    "numbers_3 = [0, 0, 0.9, 1]\n",
    "numbers_4 = [0.25, 0, 0.7, 0.25]\n",
    "numbers_5 = [0.2, 0.6, 0.0, 0.2]\n",
    "\n",
    "# Call function iteratively using eval()\n",
    "for i in range(5):\n",
    "    numbers_i = eval(f\"numbers_{i+1}\")\n",
    "    print(calculate_entropy(numbers_i))"
   ]
  }
 ],
 "metadata": {
  "kernelspec": {
   "display_name": "Python 3 (ipykernel)",
   "language": "python",
   "name": "python3"
  },
  "language_info": {
   "codemirror_mode": {
    "name": "ipython",
    "version": 3
   },
   "file_extension": ".py",
   "mimetype": "text/x-python",
   "name": "python",
   "nbconvert_exporter": "python",
   "pygments_lexer": "ipython3",
   "version": "3.11.3"
  }
 },
 "nbformat": 4,
 "nbformat_minor": 5
}
